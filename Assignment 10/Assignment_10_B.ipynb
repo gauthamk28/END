{
  "nbformat": 4,
  "nbformat_minor": 0,
  "metadata": {
    "colab": {
      "name": "Assignment_10_B.ipynb",
      "provenance": [],
      "collapsed_sections": []
    },
    "kernelspec": {
      "name": "python3",
      "display_name": "Python 3"
    },
    "accelerator": "GPU"
  },
  "cells": [
    {
      "cell_type": "code",
      "metadata": {
        "colab": {
          "base_uri": "https://localhost:8080/"
        },
        "id": "qMJ8mEbZzxz7",
        "outputId": "1b6279a9-9790-41a7-c226-bba593a0fd55"
      },
      "source": [
        "!pip install torchtext==0.6.0"
      ],
      "execution_count": 1,
      "outputs": [
        {
          "output_type": "stream",
          "text": [
            "Collecting torchtext==0.6.0\n",
            "\u001b[?25l  Downloading https://files.pythonhosted.org/packages/f2/17/e7c588245aece7aa93f360894179374830daf60d7ed0bbb59332de3b3b61/torchtext-0.6.0-py3-none-any.whl (64kB)\n",
            "\r\u001b[K     |█████                           | 10kB 23.1MB/s eta 0:00:01\r\u001b[K     |██████████▏                     | 20kB 27.3MB/s eta 0:00:01\r\u001b[K     |███████████████▎                | 30kB 27.3MB/s eta 0:00:01\r\u001b[K     |████████████████████▍           | 40kB 20.9MB/s eta 0:00:01\r\u001b[K     |█████████████████████████▌      | 51kB 19.0MB/s eta 0:00:01\r\u001b[K     |██████████████████████████████▋ | 61kB 16.2MB/s eta 0:00:01\r\u001b[K     |████████████████████████████████| 71kB 7.7MB/s \n",
            "\u001b[?25hRequirement already satisfied: numpy in /usr/local/lib/python3.6/dist-packages (from torchtext==0.6.0) (1.19.5)\n",
            "Requirement already satisfied: torch in /usr/local/lib/python3.6/dist-packages (from torchtext==0.6.0) (1.7.0+cu101)\n",
            "Collecting sentencepiece\n",
            "\u001b[?25l  Downloading https://files.pythonhosted.org/packages/14/67/e42bd1181472c95c8cda79305df848264f2a7f62740995a46945d9797b67/sentencepiece-0.1.95-cp36-cp36m-manylinux2014_x86_64.whl (1.2MB)\n",
            "\u001b[K     |████████████████████████████████| 1.2MB 23.2MB/s \n",
            "\u001b[?25hRequirement already satisfied: tqdm in /usr/local/lib/python3.6/dist-packages (from torchtext==0.6.0) (4.41.1)\n",
            "Requirement already satisfied: six in /usr/local/lib/python3.6/dist-packages (from torchtext==0.6.0) (1.15.0)\n",
            "Requirement already satisfied: requests in /usr/local/lib/python3.6/dist-packages (from torchtext==0.6.0) (2.23.0)\n",
            "Requirement already satisfied: dataclasses in /usr/local/lib/python3.6/dist-packages (from torch->torchtext==0.6.0) (0.8)\n",
            "Requirement already satisfied: typing-extensions in /usr/local/lib/python3.6/dist-packages (from torch->torchtext==0.6.0) (3.7.4.3)\n",
            "Requirement already satisfied: future in /usr/local/lib/python3.6/dist-packages (from torch->torchtext==0.6.0) (0.16.0)\n",
            "Requirement already satisfied: idna<3,>=2.5 in /usr/local/lib/python3.6/dist-packages (from requests->torchtext==0.6.0) (2.10)\n",
            "Requirement already satisfied: chardet<4,>=3.0.2 in /usr/local/lib/python3.6/dist-packages (from requests->torchtext==0.6.0) (3.0.4)\n",
            "Requirement already satisfied: certifi>=2017.4.17 in /usr/local/lib/python3.6/dist-packages (from requests->torchtext==0.6.0) (2020.12.5)\n",
            "Requirement already satisfied: urllib3!=1.25.0,!=1.25.1,<1.26,>=1.21.1 in /usr/local/lib/python3.6/dist-packages (from requests->torchtext==0.6.0) (1.24.3)\n",
            "Installing collected packages: sentencepiece, torchtext\n",
            "  Found existing installation: torchtext 0.3.1\n",
            "    Uninstalling torchtext-0.3.1:\n",
            "      Successfully uninstalled torchtext-0.3.1\n",
            "Successfully installed sentencepiece-0.1.95 torchtext-0.6.0\n"
          ],
          "name": "stdout"
        }
      ]
    },
    {
      "cell_type": "code",
      "metadata": {
        "id": "jhmU4cY60Bzz"
      },
      "source": [
        "import torch\r\n",
        "import torch.nn\r\n",
        "import torch.optim as optim\r\n",
        "import torch.nn.functional as F\r\n",
        "\r\n",
        "from torchtext.datasets import Multi30k\r\n",
        "from torchtext.data import Field, BucketIterator\r\n",
        "\r\n",
        "import spacy\r\n",
        "import numpy as np\r\n",
        "\r\n",
        "import random\r\n",
        "import math\r\n",
        "import time\r\n",
        "\r\n",
        "from tqdm import tqdm"
      ],
      "execution_count": 2,
      "outputs": []
    },
    {
      "cell_type": "code",
      "metadata": {
        "id": "q93RoMwx0E2B"
      },
      "source": [
        "SEED = 1234\r\n",
        "\r\n",
        "random.seed(SEED)\r\n",
        "np.random.seed(SEED)\r\n",
        "torch.manual_seed(SEED)\r\n",
        "torch.cuda.manual_seed(SEED)\r\n",
        "torch.backends.cudnn.deterministic = True"
      ],
      "execution_count": 3,
      "outputs": []
    },
    {
      "cell_type": "code",
      "metadata": {
        "colab": {
          "base_uri": "https://localhost:8080/"
        },
        "id": "Id3QeTxf0Gd4",
        "outputId": "eeee9a55-ccab-4941-dbf2-0a268588e42e"
      },
      "source": [
        "!python -m spacy download de"
      ],
      "execution_count": 4,
      "outputs": [
        {
          "output_type": "stream",
          "text": [
            "Collecting de_core_news_sm==2.2.5\n",
            "\u001b[?25l  Downloading https://github.com/explosion/spacy-models/releases/download/de_core_news_sm-2.2.5/de_core_news_sm-2.2.5.tar.gz (14.9MB)\n",
            "\u001b[K     |████████████████████████████████| 14.9MB 19.7MB/s \n",
            "\u001b[?25hRequirement already satisfied: spacy>=2.2.2 in /usr/local/lib/python3.6/dist-packages (from de_core_news_sm==2.2.5) (2.2.4)\n",
            "Requirement already satisfied: plac<1.2.0,>=0.9.6 in /usr/local/lib/python3.6/dist-packages (from spacy>=2.2.2->de_core_news_sm==2.2.5) (1.1.3)\n",
            "Requirement already satisfied: murmurhash<1.1.0,>=0.28.0 in /usr/local/lib/python3.6/dist-packages (from spacy>=2.2.2->de_core_news_sm==2.2.5) (1.0.5)\n",
            "Requirement already satisfied: tqdm<5.0.0,>=4.38.0 in /usr/local/lib/python3.6/dist-packages (from spacy>=2.2.2->de_core_news_sm==2.2.5) (4.41.1)\n",
            "Requirement already satisfied: thinc==7.4.0 in /usr/local/lib/python3.6/dist-packages (from spacy>=2.2.2->de_core_news_sm==2.2.5) (7.4.0)\n",
            "Requirement already satisfied: srsly<1.1.0,>=1.0.2 in /usr/local/lib/python3.6/dist-packages (from spacy>=2.2.2->de_core_news_sm==2.2.5) (1.0.5)\n",
            "Requirement already satisfied: preshed<3.1.0,>=3.0.2 in /usr/local/lib/python3.6/dist-packages (from spacy>=2.2.2->de_core_news_sm==2.2.5) (3.0.5)\n",
            "Requirement already satisfied: wasabi<1.1.0,>=0.4.0 in /usr/local/lib/python3.6/dist-packages (from spacy>=2.2.2->de_core_news_sm==2.2.5) (0.8.0)\n",
            "Requirement already satisfied: setuptools in /usr/local/lib/python3.6/dist-packages (from spacy>=2.2.2->de_core_news_sm==2.2.5) (51.1.1)\n",
            "Requirement already satisfied: blis<0.5.0,>=0.4.0 in /usr/local/lib/python3.6/dist-packages (from spacy>=2.2.2->de_core_news_sm==2.2.5) (0.4.1)\n",
            "Requirement already satisfied: requests<3.0.0,>=2.13.0 in /usr/local/lib/python3.6/dist-packages (from spacy>=2.2.2->de_core_news_sm==2.2.5) (2.23.0)\n",
            "Requirement already satisfied: catalogue<1.1.0,>=0.0.7 in /usr/local/lib/python3.6/dist-packages (from spacy>=2.2.2->de_core_news_sm==2.2.5) (1.0.0)\n",
            "Requirement already satisfied: numpy>=1.15.0 in /usr/local/lib/python3.6/dist-packages (from spacy>=2.2.2->de_core_news_sm==2.2.5) (1.19.5)\n",
            "Requirement already satisfied: cymem<2.1.0,>=2.0.2 in /usr/local/lib/python3.6/dist-packages (from spacy>=2.2.2->de_core_news_sm==2.2.5) (2.0.5)\n",
            "Requirement already satisfied: certifi>=2017.4.17 in /usr/local/lib/python3.6/dist-packages (from requests<3.0.0,>=2.13.0->spacy>=2.2.2->de_core_news_sm==2.2.5) (2020.12.5)\n",
            "Requirement already satisfied: idna<3,>=2.5 in /usr/local/lib/python3.6/dist-packages (from requests<3.0.0,>=2.13.0->spacy>=2.2.2->de_core_news_sm==2.2.5) (2.10)\n",
            "Requirement already satisfied: urllib3!=1.25.0,!=1.25.1,<1.26,>=1.21.1 in /usr/local/lib/python3.6/dist-packages (from requests<3.0.0,>=2.13.0->spacy>=2.2.2->de_core_news_sm==2.2.5) (1.24.3)\n",
            "Requirement already satisfied: chardet<4,>=3.0.2 in /usr/local/lib/python3.6/dist-packages (from requests<3.0.0,>=2.13.0->spacy>=2.2.2->de_core_news_sm==2.2.5) (3.0.4)\n",
            "Requirement already satisfied: importlib-metadata>=0.20; python_version < \"3.8\" in /usr/local/lib/python3.6/dist-packages (from catalogue<1.1.0,>=0.0.7->spacy>=2.2.2->de_core_news_sm==2.2.5) (3.3.0)\n",
            "Requirement already satisfied: zipp>=0.5 in /usr/local/lib/python3.6/dist-packages (from importlib-metadata>=0.20; python_version < \"3.8\"->catalogue<1.1.0,>=0.0.7->spacy>=2.2.2->de_core_news_sm==2.2.5) (3.4.0)\n",
            "Requirement already satisfied: typing-extensions>=3.6.4; python_version < \"3.8\" in /usr/local/lib/python3.6/dist-packages (from importlib-metadata>=0.20; python_version < \"3.8\"->catalogue<1.1.0,>=0.0.7->spacy>=2.2.2->de_core_news_sm==2.2.5) (3.7.4.3)\n",
            "Building wheels for collected packages: de-core-news-sm\n",
            "  Building wheel for de-core-news-sm (setup.py) ... \u001b[?25l\u001b[?25hdone\n",
            "  Created wheel for de-core-news-sm: filename=de_core_news_sm-2.2.5-cp36-none-any.whl size=14907057 sha256=9c9dbd43bbe3150538d228337b73284fa2440b4bb4d4eb9435a013a300e03f65\n",
            "  Stored in directory: /tmp/pip-ephem-wheel-cache-ouleq070/wheels/ba/3f/ed/d4aa8e45e7191b7f32db4bfad565e7da1edbf05c916ca7a1ca\n",
            "Successfully built de-core-news-sm\n",
            "Installing collected packages: de-core-news-sm\n",
            "Successfully installed de-core-news-sm-2.2.5\n",
            "\u001b[38;5;2m✔ Download and installation successful\u001b[0m\n",
            "You can now load the model via spacy.load('de_core_news_sm')\n",
            "\u001b[38;5;2m✔ Linking successful\u001b[0m\n",
            "/usr/local/lib/python3.6/dist-packages/de_core_news_sm -->\n",
            "/usr/local/lib/python3.6/dist-packages/spacy/data/de\n",
            "You can now load the model via spacy.load('de')\n"
          ],
          "name": "stdout"
        }
      ]
    },
    {
      "cell_type": "code",
      "metadata": {
        "id": "z01IK5I80Hux"
      },
      "source": [
        "spacy_de = spacy.load('de')\r\n",
        "spacy_en = spacy.load('en')"
      ],
      "execution_count": 5,
      "outputs": []
    },
    {
      "cell_type": "code",
      "metadata": {
        "id": "oM3OwDbZ0Kkw"
      },
      "source": [
        "def tokenize_de(text):\r\n",
        "  return [tok.text for tok in spacy_de.tokenizer(text)]\r\n",
        "\r\n",
        "def tokenize_en(text):\r\n",
        "  return [tok.text for tok in spacy_en.tokenizer(text)]"
      ],
      "execution_count": 6,
      "outputs": []
    },
    {
      "cell_type": "code",
      "metadata": {
        "id": "NnrmJcNf0RFJ"
      },
      "source": [
        "SRC = Field(\r\n",
        "    tokenize = tokenize_en,\r\n",
        "    init_token = '<sos>',\r\n",
        "    eos_token = '<eos>',\r\n",
        "    lower = True,\r\n",
        "    include_lengths = True\r\n",
        ")\r\n",
        "\r\n",
        "TRG = Field(\r\n",
        "    tokenize = tokenize_de,\r\n",
        "    init_token = '<sos>',\r\n",
        "    eos_token = '<eos>',\r\n",
        "    lower = True\r\n",
        ")"
      ],
      "execution_count": 7,
      "outputs": []
    },
    {
      "cell_type": "code",
      "metadata": {
        "colab": {
          "base_uri": "https://localhost:8080/"
        },
        "id": "Myys1If70SxI",
        "outputId": "8edd3350-7116-4ec1-c837-d08f66bf3768"
      },
      "source": [
        "train_data, valid_data, test_data = Multi30k.splits(exts=('.en', '.de'), fields=(SRC, TRG))"
      ],
      "execution_count": 8,
      "outputs": [
        {
          "output_type": "stream",
          "text": [
            "downloading training.tar.gz\n"
          ],
          "name": "stdout"
        },
        {
          "output_type": "stream",
          "text": [
            "training.tar.gz: 100%|██████████| 1.21M/1.21M [00:01<00:00, 865kB/s]\n"
          ],
          "name": "stderr"
        },
        {
          "output_type": "stream",
          "text": [
            "downloading validation.tar.gz\n"
          ],
          "name": "stdout"
        },
        {
          "output_type": "stream",
          "text": [
            "validation.tar.gz: 100%|██████████| 46.3k/46.3k [00:00<00:00, 275kB/s]\n"
          ],
          "name": "stderr"
        },
        {
          "output_type": "stream",
          "text": [
            "downloading mmt_task1_test2016.tar.gz\n"
          ],
          "name": "stdout"
        },
        {
          "output_type": "stream",
          "text": [
            "mmt_task1_test2016.tar.gz: 100%|██████████| 66.2k/66.2k [00:00<00:00, 264kB/s]\n"
          ],
          "name": "stderr"
        }
      ]
    },
    {
      "cell_type": "code",
      "metadata": {
        "id": "j_BG06q50UcY"
      },
      "source": [
        "SRC.build_vocab(train_data, min_freq=2)\r\n",
        "TRG.build_vocab(train_data, min_freq=2)"
      ],
      "execution_count": 9,
      "outputs": []
    },
    {
      "cell_type": "code",
      "metadata": {
        "colab": {
          "base_uri": "https://localhost:8080/"
        },
        "id": "aD7yygS-0at6",
        "outputId": "ad3af2a4-0c74-4b8c-9899-beb73106b339"
      },
      "source": [
        "BATCH_SIZE = 256\r\n",
        "device = torch.device('cuda' if torch.cuda.is_available() else 'cpu')\r\n",
        "print(f'Device: {device}')\r\n",
        "\r\n",
        "train_iterator, valid_iterator, test_iterator = BucketIterator.splits(\r\n",
        "    (train_data, valid_data, test_data),\r\n",
        "    batch_size = BATCH_SIZE,\r\n",
        "    device = device,\r\n",
        "    sort = True,\r\n",
        "    sort_key = lambda x: len(x.src)\r\n",
        ")"
      ],
      "execution_count": 10,
      "outputs": [
        {
          "output_type": "stream",
          "text": [
            "Device: cuda\n"
          ],
          "name": "stdout"
        }
      ]
    },
    {
      "cell_type": "code",
      "metadata": {
        "id": "I40G-Jor0cA3"
      },
      "source": [
        "class Encoder(torch.nn.Module):\r\n",
        "\r\n",
        "  def __init__(self, input_dim, emb_dim, enc_hid_dim, dec_hid_dim, dropout):\r\n",
        "    super().__init__()\r\n",
        "    self.embedding = torch.nn.Embedding(input_dim, emb_dim)\r\n",
        "    self.rnn = torch.nn.GRU(emb_dim, enc_hid_dim, bidirectional = True)\r\n",
        "    self.fc = torch.nn.Linear(enc_hid_dim * 2, dec_hid_dim)\r\n",
        "    self.dropout = torch.nn.Dropout(dropout)\r\n",
        "\r\n",
        "  def forward(self, src, src_len):\r\n",
        "\r\n",
        "    # src -> [src len, batch size]\r\n",
        "\r\n",
        "    embedded = self.dropout(self.embedding(src))\r\n",
        "    # embedded -> [src len, batch size, emb_dim]\r\n",
        "\r\n",
        "    packed_embedded = torch.nn.utils.rnn.pack_padded_sequence(embedded, src_len.cpu())\r\n",
        "    packed_outputs, hidden = self.rnn(packed_embedded)\r\n",
        "    outputs, _ = torch.nn.utils.rnn.pad_packed_sequence(packed_outputs)\r\n",
        "    # outputs -> [src len, batch size, enc_hid_dim * num_directions]\r\n",
        "    #         -> [src len, batch size, enc_hid_dim * 2]\r\n",
        "    # hidden -> [num_layers * num_directions, batch size, enc_hid_dim]\r\n",
        "    #        -> [2, batch size, enc_hid_dim]\r\n",
        "\r\n",
        "    concatenated = torch.cat((hidden[-2, :, :], hidden[-1, :, :]),dim=1)\r\n",
        "    # concatenated -> [batch size, enc_hid_dim * 2]\r\n",
        "\r\n",
        "    hidden = torch.tanh(self.fc(concatenated))\r\n",
        "    # hidden -> [batch size, dec_hid_him]\r\n",
        "\r\n",
        "    return outputs, hidden"
      ],
      "execution_count": 11,
      "outputs": []
    },
    {
      "cell_type": "code",
      "metadata": {
        "id": "-K9K9hoA0dbY"
      },
      "source": [
        "class Attention(torch.nn.Module):\r\n",
        "\r\n",
        "  def __init__(self, enc_hid_dim, dec_hid_dim):\r\n",
        "    super().__init__()\r\n",
        "    self.attn = torch.nn.Linear((enc_hid_dim * 2) + dec_hid_dim, dec_hid_dim)\r\n",
        "    self.v = torch.nn.Linear(dec_hid_dim, 1, bias=False)\r\n",
        "\r\n",
        "  def forward(self, encoder_outputs, hidden, mask):\r\n",
        "\r\n",
        "    # encoder_outputs -> [src len, batch size, enc_hid_dim * 2]\r\n",
        "    # hidden -> [batch size, dec_hid_dim]\r\n",
        "\r\n",
        "    src_len = encoder_outputs.shape[0]\r\n",
        "    batch_size = encoder_outputs.shape[1]\r\n",
        "\r\n",
        "    # Repeat hidden state for each time step in src len\r\n",
        "    hidden = hidden.unsqueeze(0).repeat(src_len, 1, 1)\r\n",
        "    # hidden -> [src len, batch size, dec_hid_dim]\r\n",
        "\r\n",
        "    concatenated = torch.cat((encoder_outputs, hidden), dim=2)\r\n",
        "    # concatenated -> [src len, batch size, (enc_hid_dim * 2) + dec_hid_dim]\r\n",
        "\r\n",
        "    energy = torch.tanh(self.attn(concatenated))\r\n",
        "    # energy -> [src len, batch size, dec_hid_dim]\r\n",
        "\r\n",
        "    attention = self.v(energy).squeeze(2)\r\n",
        "    attention = attention.masked_fill(mask == 0, -1e10)\r\n",
        "    # attention -> [src len, batch size]\r\n",
        "\r\n",
        "    return F.softmax(attention, dim=0)\r\n",
        "    # return dim -> [src len, batch size]\r\n",
        "    # the `src len` values of each item in batch add up to 1 (because of softmax)"
      ],
      "execution_count": 12,
      "outputs": []
    },
    {
      "cell_type": "code",
      "metadata": {
        "id": "IyOBRBvl0fKI"
      },
      "source": [
        "class Decoder(torch.nn.Module):\r\n",
        "\r\n",
        "  def __init__(self, output_dim, emb_dim, enc_hid_dim, dec_hid_dim, dropout, attention):\r\n",
        "    super().__init__()\r\n",
        "\r\n",
        "    self.output_dim = output_dim\r\n",
        "\r\n",
        "    self.embedding = torch.nn.Embedding(output_dim, emb_dim)\r\n",
        "    self.rnn = torch.nn.GRU(emb_dim + (2 * enc_hid_dim), dec_hid_dim)\r\n",
        "    self.fc = torch.nn.Linear(emb_dim + dec_hid_dim + (2 * enc_hid_dim), output_dim)\r\n",
        "    self.dropout = torch.nn.Dropout(dropout)\r\n",
        "    self.attn = attention\r\n",
        "\r\n",
        "  def forward(self, input, encoder_outputs, hidden, mask):\r\n",
        "    \r\n",
        "    # input -> [batch size]\r\n",
        "    # encoder_outputs -> [src len, batch size, enc_hid_dim * 2]\r\n",
        "    # hidden -> [batch size, dec_hid_dim]\r\n",
        "\r\n",
        "    input = input.unsqueeze(0)\r\n",
        "    # input -> [1, batch size]\r\n",
        "\r\n",
        "    embedded = self.dropout(self.embedding(input))\r\n",
        "    # embedded -> [1, batch size, emb_dim]\r\n",
        "\r\n",
        "    a = self.attn(encoder_outputs, hidden, mask)\r\n",
        "    # a -> [src len, batch size]\r\n",
        "\r\n",
        "    encoder_outputs = encoder_outputs.permute(1, 0, 2)\r\n",
        "    # encoder_outputs -> [batch size, src len, enc_hid_dim * 2]\r\n",
        "\r\n",
        "    a = a.permute(1, 0).unsqueeze(1)\r\n",
        "    # a -> [batch size, 1, src len]\r\n",
        "\r\n",
        "    weighted = torch.bmm(a, encoder_outputs).permute(1, 0, 2)\r\n",
        "    # weighted -> [1, batch size, enc_hid_dim * 2]\r\n",
        "\r\n",
        "    outputs, hidden = self.rnn(torch.cat((embedded, weighted), dim=2), hidden.unsqueeze(0))\r\n",
        "    # outputs -> [1, batch size, dec_hid_dim]\r\n",
        "    # hidden -> [1, batch size, dec_hid_dim]\r\n",
        "\r\n",
        "    fc_input = torch.cat((embedded, outputs, weighted), dim=2)\r\n",
        "    # fc_input -> [1, batch size, emb_dim + dec_hid_dim + (2 * enc_hid_dim)]\r\n",
        "\r\n",
        "    predictions = self.fc(fc_input).squeeze(0)\r\n",
        "    # predictions -> [batch size, output_dim]\r\n",
        "\r\n",
        "    return predictions, hidden.squeeze(0), a.squeeze(1)\r\n",
        "    # return dimensions\r\n",
        "    # predictions -> [batch size, output_dim]\r\n",
        "    # hidden -> [batch size, dec_hid_dim]\r\n",
        "    # a -> [batch size, src len]"
      ],
      "execution_count": 13,
      "outputs": []
    },
    {
      "cell_type": "code",
      "metadata": {
        "id": "oSTz5i4P0gto"
      },
      "source": [
        "class Seq2Seq(torch.nn.Module):\r\n",
        "\r\n",
        "  def __init__(self, encoder, decoder, src_pad_idx, device):\r\n",
        "    super().__init__()\r\n",
        "\r\n",
        "    self.encoder = encoder\r\n",
        "    self.decoder = decoder\r\n",
        "    self.device = device\r\n",
        "\r\n",
        "    self.src_pad_idx = src_pad_idx\r\n",
        "\r\n",
        "  def create_mask(self, src):\r\n",
        "    mask = (src != self.src_pad_idx)\r\n",
        "    # mask -> [src len, batch size]\r\n",
        "    return mask\r\n",
        "\r\n",
        "  def forward(self, src, src_len, trg, teacher_forcing_ratio=0.5):\r\n",
        "\r\n",
        "    # src -> [src len, batch size]\r\n",
        "    # trg -> [trg len, batch size]\r\n",
        "\r\n",
        "    batch_size = trg.shape[1]\r\n",
        "    trg_len = trg.shape[0]\r\n",
        "    trg_vocab_size = self.decoder.output_dim\r\n",
        "\r\n",
        "    # decoder outputs\r\n",
        "    outputs = torch.zeros(trg_len, batch_size, trg_vocab_size).to(self.device)\r\n",
        "\r\n",
        "    # pass src through encoder\r\n",
        "    encoder_outputs, hidden = self.encoder(src, src_len)\r\n",
        "    # encoder_outputs -> [src len, batch size, enc_hid_dim * 2]\r\n",
        "    # hidden -> [batch size, dec_hid_him]\r\n",
        "\r\n",
        "    input = trg[0, :]\r\n",
        "    # input -> [batch size]\r\n",
        "\r\n",
        "    mask = self.create_mask(src)\r\n",
        "\r\n",
        "    for t in range(1, trg_len):\r\n",
        "\r\n",
        "      output, hidden, attn = self.decoder(input, encoder_outputs, hidden, mask)\r\n",
        "      # output -> [batch size, output_dim]\r\n",
        "      # hidden -> [batch size, dec_hid_dim]\r\n",
        "      # attn -> [batch size, src len]\r\n",
        "\r\n",
        "      outputs[t] = output\r\n",
        "\r\n",
        "      teacher_force = random.random() < teacher_forcing_ratio\r\n",
        "\r\n",
        "      top1 = output.argmax(1)\r\n",
        "      # top1 -> [batch size]\r\n",
        "\r\n",
        "      input = trg[t] if teacher_force else top1\r\n",
        "\r\n",
        "    return outputs"
      ],
      "execution_count": 14,
      "outputs": []
    },
    {
      "cell_type": "code",
      "metadata": {
        "id": "RyW8P0vc0h7w"
      },
      "source": [
        "def init_weights(m):\r\n",
        "  for name, param in m.named_parameters():\r\n",
        "    if 'weight' in name:\r\n",
        "      torch.nn.init.normal_(param.data, mean=0, std=0.01)\r\n",
        "    else:\r\n",
        "      torch.nn.init.constant_(param.data, 0)\r\n",
        "\r\n",
        "def count_parameters(model):\r\n",
        "  return sum(p.numel() for p in model.parameters() if p.requires_grad)\r\n",
        "\r\n",
        "def epoch_time(start_time, end_time):\r\n",
        "  elapsed_time = end_time - start_time\r\n",
        "  elapsed_mins = int(elapsed_time / 60)\r\n",
        "  elapsed_secs = int(elapsed_time - (elapsed_mins * 60))\r\n",
        "  return elapsed_mins, elapsed_secs"
      ],
      "execution_count": 15,
      "outputs": []
    },
    {
      "cell_type": "code",
      "metadata": {
        "colab": {
          "base_uri": "https://localhost:8080/"
        },
        "id": "PV7oP61p0jMr",
        "outputId": "4e4ad5c9-f379-41f1-ebb4-f2ed62d7b8d7"
      },
      "source": [
        "INPUT_DIM = len(SRC.vocab)\r\n",
        "OUTPUT_DIM = len(TRG.vocab)\r\n",
        "ENC_EMB_DIM = 128\r\n",
        "DEC_EMB_DIM = 128\r\n",
        "ENC_HID_DIM = 128\r\n",
        "DEC_HID_HIM = 128\r\n",
        "\r\n",
        "DROPOUT = 0.2\r\n",
        "\r\n",
        "src_pad_idx = SRC.vocab.stoi[SRC.pad_token]\r\n",
        "\r\n",
        "enc = Encoder(INPUT_DIM, ENC_EMB_DIM, ENC_HID_DIM, DEC_HID_HIM, DROPOUT)\r\n",
        "attn = Attention(ENC_HID_DIM, DEC_HID_HIM)\r\n",
        "dec = Decoder(OUTPUT_DIM, DEC_EMB_DIM, ENC_HID_DIM, DEC_HID_HIM, DROPOUT, attn)\r\n",
        "\r\n",
        "model = Seq2Seq(enc, dec, src_pad_idx, device).to(device)\r\n",
        "model.apply(init_weights)\r\n",
        "\r\n",
        "print(f'Model parameters: {count_parameters(model):,}')"
      ],
      "execution_count": 16,
      "outputs": [
        {
          "output_type": "stream",
          "text": [
            "Model parameters: 6,267,183\n"
          ],
          "name": "stdout"
        }
      ]
    },
    {
      "cell_type": "code",
      "metadata": {
        "colab": {
          "base_uri": "https://localhost:8080/"
        },
        "id": "2jGUsHdq0kl4",
        "outputId": "b27a00d2-afa5-4bba-f588-2c0ae43f935f"
      },
      "source": [
        "model"
      ],
      "execution_count": 17,
      "outputs": [
        {
          "output_type": "execute_result",
          "data": {
            "text/plain": [
              "Seq2Seq(\n",
              "  (encoder): Encoder(\n",
              "    (embedding): Embedding(5893, 128)\n",
              "    (rnn): GRU(128, 128, bidirectional=True)\n",
              "    (fc): Linear(in_features=256, out_features=128, bias=True)\n",
              "    (dropout): Dropout(p=0.2, inplace=False)\n",
              "  )\n",
              "  (decoder): Decoder(\n",
              "    (embedding): Embedding(7855, 128)\n",
              "    (rnn): GRU(384, 128)\n",
              "    (fc): Linear(in_features=512, out_features=7855, bias=True)\n",
              "    (dropout): Dropout(p=0.2, inplace=False)\n",
              "    (attn): Attention(\n",
              "      (attn): Linear(in_features=384, out_features=128, bias=True)\n",
              "      (v): Linear(in_features=128, out_features=1, bias=False)\n",
              "    )\n",
              "  )\n",
              ")"
            ]
          },
          "metadata": {
            "tags": []
          },
          "execution_count": 17
        }
      ]
    },
    {
      "cell_type": "code",
      "metadata": {
        "id": "M88gk8J10lVY"
      },
      "source": [
        "optimizer = optim.Adam(model.parameters())"
      ],
      "execution_count": 18,
      "outputs": []
    },
    {
      "cell_type": "code",
      "metadata": {
        "id": "TJOqOpQU0mRA"
      },
      "source": [
        "TRG_PAD_IDX = TRG.vocab.stoi[TRG.pad_token]\r\n",
        "criterion = torch.nn.CrossEntropyLoss(ignore_index=TRG_PAD_IDX)"
      ],
      "execution_count": 19,
      "outputs": []
    },
    {
      "cell_type": "code",
      "metadata": {
        "id": "_y1wHrdC0paz"
      },
      "source": [
        "def train(model, iterator, optimizer, criterion, clip):\r\n",
        "    \r\n",
        "    model.train()\r\n",
        "    \r\n",
        "    epoch_loss = 0\r\n",
        "    \r\n",
        "    for i, batch in tqdm(enumerate(iterator), total=len(iterator)):\r\n",
        "        \r\n",
        "        src, src_len = batch.src\r\n",
        "        trg = batch.trg\r\n",
        "        \r\n",
        "        optimizer.zero_grad()\r\n",
        "        \r\n",
        "        output = model(src, src_len, trg)\r\n",
        "        \r\n",
        "        #trg = [trg len, batch size]\r\n",
        "        #output = [trg len, batch size, output dim]\r\n",
        "        \r\n",
        "        output_dim = output.shape[-1]\r\n",
        "        \r\n",
        "        output = output[1:].view(-1, output_dim)\r\n",
        "        trg = trg[1:].view(-1)\r\n",
        "        \r\n",
        "        #trg = [(trg len - 1) * batch size]\r\n",
        "        #output = [(trg len - 1) * batch size, output dim]\r\n",
        "        \r\n",
        "        loss = criterion(output, trg)\r\n",
        "        \r\n",
        "        loss.backward()\r\n",
        "        \r\n",
        "        torch.nn.utils.clip_grad_norm_(model.parameters(), clip)\r\n",
        "        \r\n",
        "        optimizer.step()\r\n",
        "        \r\n",
        "        epoch_loss += loss.item()\r\n",
        "        \r\n",
        "    return epoch_loss / len(iterator)"
      ],
      "execution_count": 20,
      "outputs": []
    },
    {
      "cell_type": "code",
      "metadata": {
        "id": "a1nDmN4_0r9P"
      },
      "source": [
        "def evaluate(model, iterator, criterion):\r\n",
        "    \r\n",
        "    model.eval()\r\n",
        "    \r\n",
        "    epoch_loss = 0\r\n",
        "    \r\n",
        "    with torch.no_grad():\r\n",
        "    \r\n",
        "        for i, batch in tqdm(enumerate(iterator), total=len(iterator)):\r\n",
        "\r\n",
        "            src, src_len = batch.src\r\n",
        "            trg = batch.trg\r\n",
        "\r\n",
        "            output = model(src, src_len, trg, 0) #turn off teacher forcing\r\n",
        "\r\n",
        "            #trg = [trg len, batch size]\r\n",
        "            #output = [trg len, batch size, output dim]\r\n",
        "\r\n",
        "            output_dim = output.shape[-1]\r\n",
        "            \r\n",
        "            output = output[1:].view(-1, output_dim)\r\n",
        "            trg = trg[1:].view(-1)\r\n",
        "\r\n",
        "            #trg = [(trg len - 1) * batch size]\r\n",
        "            #output = [(trg len - 1) * batch size, output dim]\r\n",
        "\r\n",
        "            loss = criterion(output, trg)\r\n",
        "\r\n",
        "            epoch_loss += loss.item()\r\n",
        "        \r\n",
        "    return epoch_loss / len(iterator)"
      ],
      "execution_count": 21,
      "outputs": []
    },
    {
      "cell_type": "code",
      "metadata": {
        "colab": {
          "base_uri": "https://localhost:8080/"
        },
        "id": "AOXo3h7x0txA",
        "outputId": "7987c563-afe2-400c-e5b4-71c9b9c49bb1"
      },
      "source": [
        "N_EPOCHS = 20\r\n",
        "CLIP = 1\r\n",
        "\r\n",
        "best_valid_loss = float('inf')\r\n",
        "\r\n",
        "for epoch in range(N_EPOCHS):\r\n",
        "    \r\n",
        "    start_time = time.time()\r\n",
        "    \r\n",
        "    train_loss = train(model, train_iterator, optimizer, criterion, CLIP)\r\n",
        "    valid_loss = evaluate(model, valid_iterator, criterion)\r\n",
        "    \r\n",
        "    end_time = time.time()\r\n",
        "    \r\n",
        "    epoch_mins, epoch_secs = epoch_time(start_time, end_time)\r\n",
        "    \r\n",
        "    if valid_loss < best_valid_loss:\r\n",
        "        best_valid_loss = valid_loss\r\n",
        "        torch.save(model.state_dict(), 'tut3-model.pt')\r\n",
        "    \r\n",
        "    print(f'Epoch: {epoch+1:02} | Time: {epoch_mins}m {epoch_secs}s')\r\n",
        "    print(f'\\tTrain Loss: {train_loss:.3f} | Train PPL: {math.exp(train_loss):7.3f}')\r\n",
        "    print(f'\\t Val. Loss: {valid_loss:.3f} |  Val. PPL: {math.exp(valid_loss):7.3f}')"
      ],
      "execution_count": 22,
      "outputs": [
        {
          "output_type": "stream",
          "text": [
            "100%|██████████| 114/114 [00:23<00:00,  4.89it/s]\n",
            "100%|██████████| 4/4 [00:00<00:00,  8.43it/s]\n",
            "  1%|          | 1/114 [00:00<00:16,  7.04it/s]"
          ],
          "name": "stderr"
        },
        {
          "output_type": "stream",
          "text": [
            "Epoch: 01 | Time: 0m 23s\n",
            "\tTrain Loss: 5.964 | Train PPL: 389.324\n",
            "\t Val. Loss: 5.464 |  Val. PPL: 235.922\n"
          ],
          "name": "stdout"
        },
        {
          "output_type": "stream",
          "text": [
            "100%|██████████| 114/114 [00:23<00:00,  4.93it/s]\n",
            "100%|██████████| 4/4 [00:00<00:00,  8.35it/s]\n",
            "  1%|          | 1/114 [00:00<00:15,  7.14it/s]"
          ],
          "name": "stderr"
        },
        {
          "output_type": "stream",
          "text": [
            "Epoch: 02 | Time: 0m 23s\n",
            "\tTrain Loss: 4.868 | Train PPL: 130.124\n",
            "\t Val. Loss: 5.551 |  Val. PPL: 257.375\n"
          ],
          "name": "stdout"
        },
        {
          "output_type": "stream",
          "text": [
            "100%|██████████| 114/114 [00:23<00:00,  4.88it/s]\n",
            "100%|██████████| 4/4 [00:00<00:00,  8.33it/s]\n",
            "  1%|          | 1/114 [00:00<00:16,  6.99it/s]"
          ],
          "name": "stderr"
        },
        {
          "output_type": "stream",
          "text": [
            "Epoch: 03 | Time: 0m 23s\n",
            "\tTrain Loss: 4.594 | Train PPL:  98.932\n",
            "\t Val. Loss: 5.529 |  Val. PPL: 251.824\n"
          ],
          "name": "stdout"
        },
        {
          "output_type": "stream",
          "text": [
            "100%|██████████| 114/114 [00:23<00:00,  4.86it/s]\n",
            "100%|██████████| 4/4 [00:00<00:00,  8.45it/s]\n",
            "  1%|          | 1/114 [00:00<00:16,  6.86it/s]"
          ],
          "name": "stderr"
        },
        {
          "output_type": "stream",
          "text": [
            "Epoch: 04 | Time: 0m 23s\n",
            "\tTrain Loss: 4.429 | Train PPL:  83.876\n",
            "\t Val. Loss: 5.476 |  Val. PPL: 238.819\n"
          ],
          "name": "stdout"
        },
        {
          "output_type": "stream",
          "text": [
            "100%|██████████| 114/114 [00:23<00:00,  4.86it/s]\n",
            "100%|██████████| 4/4 [00:00<00:00,  8.28it/s]\n",
            "  1%|          | 1/114 [00:00<00:16,  7.02it/s]"
          ],
          "name": "stderr"
        },
        {
          "output_type": "stream",
          "text": [
            "Epoch: 05 | Time: 0m 23s\n",
            "\tTrain Loss: 4.286 | Train PPL:  72.647\n",
            "\t Val. Loss: 5.497 |  Val. PPL: 243.839\n"
          ],
          "name": "stdout"
        },
        {
          "output_type": "stream",
          "text": [
            "100%|██████████| 114/114 [00:23<00:00,  4.85it/s]\n",
            "100%|██████████| 4/4 [00:00<00:00,  8.31it/s]\n",
            "  1%|          | 1/114 [00:00<00:16,  6.92it/s]"
          ],
          "name": "stderr"
        },
        {
          "output_type": "stream",
          "text": [
            "Epoch: 06 | Time: 0m 24s\n",
            "\tTrain Loss: 4.187 | Train PPL:  65.801\n",
            "\t Val. Loss: 5.478 |  Val. PPL: 239.317\n"
          ],
          "name": "stdout"
        },
        {
          "output_type": "stream",
          "text": [
            "100%|██████████| 114/114 [00:23<00:00,  4.87it/s]\n",
            "100%|██████████| 4/4 [00:00<00:00,  8.35it/s]\n",
            "  1%|          | 1/114 [00:00<00:16,  6.86it/s]"
          ],
          "name": "stderr"
        },
        {
          "output_type": "stream",
          "text": [
            "Epoch: 07 | Time: 0m 23s\n",
            "\tTrain Loss: 4.067 | Train PPL:  58.393\n",
            "\t Val. Loss: 5.312 |  Val. PPL: 202.703\n"
          ],
          "name": "stdout"
        },
        {
          "output_type": "stream",
          "text": [
            "100%|██████████| 114/114 [00:23<00:00,  4.86it/s]\n",
            "100%|██████████| 4/4 [00:00<00:00,  8.39it/s]\n",
            "  1%|          | 1/114 [00:00<00:16,  6.97it/s]"
          ],
          "name": "stderr"
        },
        {
          "output_type": "stream",
          "text": [
            "Epoch: 08 | Time: 0m 23s\n",
            "\tTrain Loss: 3.969 | Train PPL:  52.937\n",
            "\t Val. Loss: 5.150 |  Val. PPL: 172.414\n"
          ],
          "name": "stdout"
        },
        {
          "output_type": "stream",
          "text": [
            "100%|██████████| 114/114 [00:23<00:00,  4.87it/s]\n",
            "100%|██████████| 4/4 [00:00<00:00,  8.36it/s]\n",
            "  1%|          | 1/114 [00:00<00:16,  7.03it/s]"
          ],
          "name": "stderr"
        },
        {
          "output_type": "stream",
          "text": [
            "Epoch: 09 | Time: 0m 23s\n",
            "\tTrain Loss: 3.800 | Train PPL:  44.683\n",
            "\t Val. Loss: 5.007 |  Val. PPL: 149.512\n"
          ],
          "name": "stdout"
        },
        {
          "output_type": "stream",
          "text": [
            "100%|██████████| 114/114 [00:23<00:00,  4.87it/s]\n",
            "100%|██████████| 4/4 [00:00<00:00,  8.20it/s]\n",
            "  1%|          | 1/114 [00:00<00:16,  6.94it/s]"
          ],
          "name": "stderr"
        },
        {
          "output_type": "stream",
          "text": [
            "Epoch: 10 | Time: 0m 23s\n",
            "\tTrain Loss: 3.648 | Train PPL:  38.394\n",
            "\t Val. Loss: 4.711 |  Val. PPL: 111.210\n"
          ],
          "name": "stdout"
        },
        {
          "output_type": "stream",
          "text": [
            "100%|██████████| 114/114 [00:23<00:00,  4.87it/s]\n",
            "100%|██████████| 4/4 [00:00<00:00,  8.34it/s]\n",
            "  1%|          | 1/114 [00:00<00:16,  7.03it/s]"
          ],
          "name": "stderr"
        },
        {
          "output_type": "stream",
          "text": [
            "Epoch: 11 | Time: 0m 23s\n",
            "\tTrain Loss: 3.456 | Train PPL:  31.688\n",
            "\t Val. Loss: 4.467 |  Val. PPL:  87.064\n"
          ],
          "name": "stdout"
        },
        {
          "output_type": "stream",
          "text": [
            "100%|██████████| 114/114 [00:23<00:00,  4.86it/s]\n",
            "100%|██████████| 4/4 [00:00<00:00,  8.39it/s]\n",
            "  1%|          | 1/114 [00:00<00:16,  6.96it/s]"
          ],
          "name": "stderr"
        },
        {
          "output_type": "stream",
          "text": [
            "Epoch: 12 | Time: 0m 23s\n",
            "\tTrain Loss: 3.239 | Train PPL:  25.518\n",
            "\t Val. Loss: 4.309 |  Val. PPL:  74.400\n"
          ],
          "name": "stdout"
        },
        {
          "output_type": "stream",
          "text": [
            "100%|██████████| 114/114 [00:23<00:00,  4.87it/s]\n",
            "100%|██████████| 4/4 [00:00<00:00,  8.37it/s]\n",
            "  1%|          | 1/114 [00:00<00:15,  7.13it/s]"
          ],
          "name": "stderr"
        },
        {
          "output_type": "stream",
          "text": [
            "Epoch: 13 | Time: 0m 23s\n",
            "\tTrain Loss: 3.057 | Train PPL:  21.257\n",
            "\t Val. Loss: 4.017 |  Val. PPL:  55.517\n"
          ],
          "name": "stdout"
        },
        {
          "output_type": "stream",
          "text": [
            "100%|██████████| 114/114 [00:23<00:00,  4.88it/s]\n",
            "100%|██████████| 4/4 [00:00<00:00,  8.42it/s]\n",
            "  1%|          | 1/114 [00:00<00:16,  6.99it/s]"
          ],
          "name": "stderr"
        },
        {
          "output_type": "stream",
          "text": [
            "Epoch: 14 | Time: 0m 23s\n",
            "\tTrain Loss: 2.875 | Train PPL:  17.728\n",
            "\t Val. Loss: 3.942 |  Val. PPL:  51.501\n"
          ],
          "name": "stdout"
        },
        {
          "output_type": "stream",
          "text": [
            "100%|██████████| 114/114 [00:23<00:00,  4.86it/s]\n",
            "100%|██████████| 4/4 [00:00<00:00,  8.40it/s]\n",
            "  1%|          | 1/114 [00:00<00:16,  6.98it/s]"
          ],
          "name": "stderr"
        },
        {
          "output_type": "stream",
          "text": [
            "Epoch: 15 | Time: 0m 23s\n",
            "\tTrain Loss: 2.721 | Train PPL:  15.202\n",
            "\t Val. Loss: 3.733 |  Val. PPL:  41.803\n"
          ],
          "name": "stdout"
        },
        {
          "output_type": "stream",
          "text": [
            "100%|██████████| 114/114 [00:23<00:00,  4.87it/s]\n",
            "100%|██████████| 4/4 [00:00<00:00,  8.39it/s]\n",
            "  1%|          | 1/114 [00:00<00:16,  6.91it/s]"
          ],
          "name": "stderr"
        },
        {
          "output_type": "stream",
          "text": [
            "Epoch: 16 | Time: 0m 23s\n",
            "\tTrain Loss: 2.595 | Train PPL:  13.397\n",
            "\t Val. Loss: 3.636 |  Val. PPL:  37.936\n"
          ],
          "name": "stdout"
        },
        {
          "output_type": "stream",
          "text": [
            "100%|██████████| 114/114 [00:23<00:00,  4.87it/s]\n",
            "100%|██████████| 4/4 [00:00<00:00,  8.40it/s]\n",
            "  1%|          | 1/114 [00:00<00:16,  6.92it/s]"
          ],
          "name": "stderr"
        },
        {
          "output_type": "stream",
          "text": [
            "Epoch: 17 | Time: 0m 23s\n",
            "\tTrain Loss: 2.434 | Train PPL:  11.409\n",
            "\t Val. Loss: 3.546 |  Val. PPL:  34.661\n"
          ],
          "name": "stdout"
        },
        {
          "output_type": "stream",
          "text": [
            "100%|██████████| 114/114 [00:23<00:00,  4.87it/s]\n",
            "100%|██████████| 4/4 [00:00<00:00,  8.21it/s]\n",
            "  1%|          | 1/114 [00:00<00:16,  6.85it/s]"
          ],
          "name": "stderr"
        },
        {
          "output_type": "stream",
          "text": [
            "Epoch: 18 | Time: 0m 23s\n",
            "\tTrain Loss: 2.329 | Train PPL:  10.264\n",
            "\t Val. Loss: 3.490 |  Val. PPL:  32.771\n"
          ],
          "name": "stdout"
        },
        {
          "output_type": "stream",
          "text": [
            "100%|██████████| 114/114 [00:23<00:00,  4.87it/s]\n",
            "100%|██████████| 4/4 [00:00<00:00,  8.36it/s]\n",
            "  1%|          | 1/114 [00:00<00:16,  7.03it/s]"
          ],
          "name": "stderr"
        },
        {
          "output_type": "stream",
          "text": [
            "Epoch: 19 | Time: 0m 23s\n",
            "\tTrain Loss: 2.239 | Train PPL:   9.383\n",
            "\t Val. Loss: 3.456 |  Val. PPL:  31.679\n"
          ],
          "name": "stdout"
        },
        {
          "output_type": "stream",
          "text": [
            "100%|██████████| 114/114 [00:23<00:00,  4.87it/s]\n",
            "100%|██████████| 4/4 [00:00<00:00,  8.29it/s]\n"
          ],
          "name": "stderr"
        },
        {
          "output_type": "stream",
          "text": [
            "Epoch: 20 | Time: 0m 23s\n",
            "\tTrain Loss: 2.099 | Train PPL:   8.158\n",
            "\t Val. Loss: 3.420 |  Val. PPL:  30.567\n"
          ],
          "name": "stdout"
        }
      ]
    },
    {
      "cell_type": "code",
      "metadata": {
        "colab": {
          "base_uri": "https://localhost:8080/"
        },
        "id": "WjRtAEGK0v-a",
        "outputId": "36728607-a440-422c-c188-1111fafc72d4"
      },
      "source": [
        "model.load_state_dict(torch.load('tut3-model.pt'))\r\n",
        "\r\n",
        "test_loss = evaluate(model, test_iterator, criterion)\r\n",
        "\r\n",
        "print(f'| Test Loss: {test_loss:.3f} |  Test PPL: {math.exp(test_loss):7.3f} |')"
      ],
      "execution_count": 23,
      "outputs": [
        {
          "output_type": "stream",
          "text": [
            "100%|██████████| 4/4 [00:00<00:00,  9.12it/s]"
          ],
          "name": "stderr"
        },
        {
          "output_type": "stream",
          "text": [
            "| Test Loss: 3.396 |  Test PPL:  29.851 |\n"
          ],
          "name": "stdout"
        },
        {
          "output_type": "stream",
          "text": [
            "\n"
          ],
          "name": "stderr"
        }
      ]
    },
    {
      "cell_type": "code",
      "metadata": {
        "id": "GQM4sZYL01Uw"
      },
      "source": [
        "import matplotlib.pyplot as plt\r\n",
        "from matplotlib import ticker\r\n",
        "\r\n",
        "def display_attention(sentence, translation, attention):\r\n",
        "\r\n",
        "  fig = plt.figure(figsize=(10, 10))\r\n",
        "  ax = fig.add_subplot(111)\r\n",
        "\r\n",
        "  attention = attention.squeeze(1).cpu().detach().numpy()\r\n",
        "\r\n",
        "  cax = ax.matshow(attention, cmap='bone')\r\n",
        "\r\n",
        "  ax.tick_params(labelsize=15)\r\n",
        "  ax.set_xticklabels(['']+['<sos>']+[t.lower() for t in sentence]+['<eos>'], rotation=45)\r\n",
        "  ax.set_yticklabels(['']+translation)\r\n",
        "\r\n",
        "  ax.xaxis.set_major_locator(ticker.MultipleLocator(1))\r\n",
        "  ax.yaxis.set_major_locator(ticker.MultipleLocator(1))\r\n",
        "\r\n",
        "  plt.show()\r\n",
        "  plt.close()"
      ],
      "execution_count": 24,
      "outputs": []
    },
    {
      "cell_type": "code",
      "metadata": {
        "id": "-mUMFPB_02ZY"
      },
      "source": [
        "def translate_sentence(sentence, src_field, trg_field, model, device, max_len=50):\r\n",
        "\r\n",
        "  model.eval()\r\n",
        "\r\n",
        "  if isinstance(sentence, str):\r\n",
        "    nlp = spacy.load('en')\r\n",
        "    tokens = [token.text.lower() for token in nlp(sentence)]\r\n",
        "  else:\r\n",
        "    tokens = [token.lower() for token in sentence]\r\n",
        "\r\n",
        "  tokens = [src_field.init_token] + tokens + [src_field.eos_token]\r\n",
        "\r\n",
        "  src_indexes = [src_field.vocab.stoi[token] for token in tokens]\r\n",
        "\r\n",
        "  src_tensor = torch.LongTensor(src_indexes).unsqueeze(1).to(device)\r\n",
        "\r\n",
        "  src_len = torch.LongTensor([len(src_indexes)]).to(device)\r\n",
        "\r\n",
        "  with torch.no_grad():\r\n",
        "    encoder_outputs, hidden = model.encoder(src_tensor, src_len)\r\n",
        "\r\n",
        "  mask = model.create_mask(src_tensor)\r\n",
        "\r\n",
        "  trg_indexes = [trg_field.vocab.stoi[trg_field.init_token]]\r\n",
        "\r\n",
        "  attentions = torch.zeros(max_len, 1, len(src_indexes)).to(device)\r\n",
        "\r\n",
        "  for i in range(max_len):\r\n",
        "\r\n",
        "    trg_tensor = torch.LongTensor([trg_indexes[-1]]).to(device)\r\n",
        "\r\n",
        "    with torch.no_grad():\r\n",
        "      output, hidden, attention = model.decoder(trg_tensor, encoder_outputs, hidden, mask)\r\n",
        "\r\n",
        "      attentions[i] = attention\r\n",
        "\r\n",
        "      pred_token = output.argmax(1).item()\r\n",
        "\r\n",
        "      trg_indexes.append(pred_token)\r\n",
        "\r\n",
        "      if pred_token == trg_field.vocab.stoi[trg_field.eos_token]:\r\n",
        "        break\r\n",
        "\r\n",
        "  trg_tokens = [trg_field.vocab.itos[i] for i in trg_indexes]\r\n",
        "\r\n",
        "  return trg_tokens[1:], attentions[:len(trg_tokens)-1]"
      ],
      "execution_count": 25,
      "outputs": []
    },
    {
      "cell_type": "code",
      "metadata": {
        "id": "Y7kWp_qM037B"
      },
      "source": [
        "def translate_and_display_attention(idx):\r\n",
        "\r\n",
        "  src = vars(train_data.examples[idx])['src']\r\n",
        "  trg = vars(train_data.examples[idx])['trg']\r\n",
        "\r\n",
        "  print(f'src: ${src}')\r\n",
        "  print(f'trg: ${trg}')\r\n",
        "\r\n",
        "  translation, attention = translate_sentence(src, SRC, TRG, model, device)\r\n",
        "\r\n",
        "  print(f'predicted: {translation}')\r\n",
        "\r\n",
        "  display_attention(src, translation, attention)"
      ],
      "execution_count": 26,
      "outputs": []
    },
    {
      "cell_type": "code",
      "metadata": {
        "colab": {
          "base_uri": "https://localhost:8080/",
          "height": 665
        },
        "id": "NaRxnTOu044J",
        "outputId": "1121f8d6-ffba-4003-9d29-efe8eb6955f6"
      },
      "source": [
        "translate_and_display_attention(2)"
      ],
      "execution_count": 27,
      "outputs": [
        {
          "output_type": "stream",
          "text": [
            "src: $['a', 'little', 'girl', 'climbing', 'into', 'a', 'wooden', 'playhouse', '.']\n",
            "trg: $['ein', 'kleines', 'mädchen', 'klettert', 'in', 'ein', 'spielhaus', 'aus', 'holz', '.']\n",
            "predicted: ['ein', 'kleines', 'mädchen', 'klettert', 'auf', 'einer', '<unk>', '<unk>', '.', '<eos>']\n"
          ],
          "name": "stdout"
        },
        {
          "output_type": "display_data",
          "data": {
            "image/png": "[encoded data removed]",
            "text/plain": [
              "<Figure size 720x720 with 1 Axes>"
            ]
          },
          "metadata": {
            "tags": [],
            "needs_background": "light"
          }
        }
      ]
    },
    {
      "cell_type": "code",
      "metadata": {
        "colab": {
          "base_uri": "https://localhost:8080/",
          "height": 686
        },
        "id": "4EsJe93R056g",
        "outputId": "604eaa99-39c9-4cfe-8c2d-529045438d62"
      },
      "source": [
        "translate_and_display_attention(100)"
      ],
      "execution_count": 28,
      "outputs": [
        {
          "output_type": "stream",
          "text": [
            "src: $['toddler', 'boy', 'in', 'a', 'red', 'hat', 'holding', 'on', 'to', 'some', 'railings', '.']\n",
            "trg: $['männliches', 'kleinkind', 'in', 'einem', 'roten', 'hut', ',', 'das', 'sich', 'an', 'einem', 'geländer', 'festhält', '.']\n",
            "predicted: ['ein', 'kleiner', 'junge', 'mit', 'einem', 'roten', 'hut', 'hält', 'den', 'kopf', 'auf', 'einem', '<unk>', '.', '<eos>']\n"
          ],
          "name": "stdout"
        },
        {
          "output_type": "display_data",
          "data": {
            "image/png": "[encoded data removed]",
            "text/plain": [
              "<Figure size 720x720 with 1 Axes>"
            ]
          },
          "metadata": {
            "tags": [],
            "needs_background": "light"
          }
        }
      ]
    },
    {
      "cell_type": "code",
      "metadata": {
        "id": "ZN-AB7S606zo"
      },
      "source": [
        "from torchtext.data.metrics import bleu_score\r\n",
        "\r\n",
        "def calculate_bleu(data, src_field, trg_field, model, device, max_len = 50):\r\n",
        "\r\n",
        "  trgs = []\r\n",
        "  pred_trgs = []\r\n",
        "\r\n",
        "  for datum in data:\r\n",
        "\r\n",
        "    src = vars(datum)['src']\r\n",
        "    trg = vars(datum)['trg']\r\n",
        "\r\n",
        "    pred_trg, _ = translate_sentence(src, SRC, TRG, model, device, max_len)\r\n",
        "\r\n",
        "    pred_trg = pred_trg[:-1]\r\n",
        "\r\n",
        "    pred_trgs.append(pred_trg)\r\n",
        "    trgs.append([trg])\r\n",
        "\r\n",
        "  return bleu_score(pred_trgs, trgs)"
      ],
      "execution_count": 29,
      "outputs": []
    },
    {
      "cell_type": "code",
      "metadata": {
        "colab": {
          "base_uri": "https://localhost:8080/"
        },
        "id": "SZggDB53076K",
        "outputId": "183c1383-7fec-4bef-955a-6f7a7c07745e"
      },
      "source": [
        "bleu_score = calculate_bleu(test_data, SRC, TRG, model, device)\r\n",
        "\r\n",
        "print(f'BLEU score = {bleu_score*100:.2f}')"
      ],
      "execution_count": 30,
      "outputs": [
        {
          "output_type": "stream",
          "text": [
            "BLEU score = 23.84\n"
          ],
          "name": "stdout"
        }
      ]
    }
  ]
}